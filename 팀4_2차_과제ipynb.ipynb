{
  "nbformat": 4,
  "nbformat_minor": 0,
  "metadata": {
    "colab": {
      "provenance": []
    },
    "kernelspec": {
      "name": "python3",
      "display_name": "Python 3"
    },
    "language_info": {
      "name": "python"
    }
  },
  "cells": [
    {
      "cell_type": "code",
      "source": [
        "import pandas as pd\n",
        "import numpy as np\n",
        "\n",
        "import pandas as pd\n",
        "\n",
        "data = pd.read_csv('bikeshare_pre.csv')"
      ],
      "metadata": {
        "id": "f_t-YwcrLBBA"
      },
      "execution_count": 64,
      "outputs": []
    },
    {
      "cell_type": "code",
      "source": [
        "A = data.drop('count', axis=1, inplace=False)\n",
        "b = data['count']"
      ],
      "metadata": {
        "id": "zCM3GF1jLOQw"
      },
      "execution_count": 65,
      "outputs": []
    },
    {
      "cell_type": "code",
      "source": [
        "# train, test 로 구분\n",
        "from sklearn.model_selection import train_test_split\n",
        "\n",
        "A_train, A_test, b_train, b_test = train_test_split(A, b, test_size=0.3, random_state=123)\n",
        "print(A_train.shape)\n",
        "print(A_test.shape)"
      ],
      "metadata": {
        "colab": {
          "base_uri": "https://localhost:8080/"
        },
        "id": "cYyU1LwOLQ_P",
        "outputId": "8aaf541e-2162-4792-a89d-14c41a6376cc"
      },
      "execution_count": 66,
      "outputs": [
        {
          "output_type": "stream",
          "name": "stdout",
          "text": [
            "(7620, 96)\n",
            "(3266, 96)\n"
          ]
        }
      ]
    },
    {
      "cell_type": "code",
      "source": [
        "model = LinearRegression()\n",
        "\n",
        "model.fit(A_train, b_train)\n",
        "\n",
        "b_test_pred = model.predict(A_test)\n",
        "b_train_pred = model.predict(A_train)\n",
        "\n",
        "rmse_test = np.sqrt(metrics.mean_squared_error(b_test_pred, b_test))\n",
        "rmse_train = np.sqrt(metrics.mean_squared_error(b_train_pred, b_train))\n",
        "\n",
        "\n",
        "print('RMSE test: ', rmse_test)\n",
        "print('RMSE train:', rmse_train)"
      ],
      "metadata": {
        "colab": {
          "base_uri": "https://localhost:8080/"
        },
        "id": "E5fiWUPMLUHh",
        "outputId": "b17113ec-f2eb-435d-eb25-98e6d1f9dc79"
      },
      "execution_count": 69,
      "outputs": [
        {
          "output_type": "stream",
          "name": "stdout",
          "text": [
            "RMSE test:  102.2337884289395\n",
            "RMSE train: 99.74306813842324\n"
          ]
        }
      ]
    },
    {
      "cell_type": "code",
      "source": [
        "from sklearn.linear_model import Ridge, Lasso\n",
        "from sklearn.metrics import mean_squared_error\n",
        "import pandas as pd\n",
        "\n",
        "df = pd.read_csv('bikeshare_pre.csv')"
      ],
      "metadata": {
        "id": "krLnBsb3Lgj2"
      },
      "execution_count": 70,
      "outputs": []
    },
    {
      "cell_type": "code",
      "source": [
        "# Ridge\n",
        "ridge = Ridge(alpha=0.01) # 0.01 ~ 100\n",
        "\n",
        "ridge.fit(A_train, b_train)\n",
        "\n",
        "btrain_result = ridge.predict(A_train)\n",
        "btest_result  = ridge.predict(A_test)\n",
        "\n",
        "rmse_train = np.sqrt(mean_squared_error(b_train, btrain_result))\n",
        "rmse_test = np.sqrt(mean_squared_error(b_test, btest_result))\n",
        "\n",
        "print('Train 데이터의 RMSE 값 {}'.format(rmse_train))\n",
        "print('Test  데이터의 RMSE 값 {}'.format(rmse_test))"
      ],
      "metadata": {
        "colab": {
          "base_uri": "https://localhost:8080/"
        },
        "id": "2KnFfxspLkSI",
        "outputId": "43eded3a-b4cb-4540-9ae8-7d3503815bac"
      },
      "execution_count": 71,
      "outputs": [
        {
          "output_type": "stream",
          "name": "stdout",
          "text": [
            "Train 데이터의 RMSE 값 99.74306870267922\n",
            "Test  데이터의 RMSE 값 102.23373986635421\n"
          ]
        }
      ]
    },
    {
      "cell_type": "code",
      "source": [
        "# Lasso\n",
        "lasso = Lasso(alpha=9) # 0.05 ~ 50\n",
        "\n",
        "lasso.fit(A_train, b_train)\n",
        "\n",
        "btrain_result = lasso.predict(A_train)\n",
        "btest_result  = lasso.predict(A_test)\n",
        "\n",
        "rmse_train = np.sqrt(mean_squared_error(b_train, btrain_result))\n",
        "rmse_test = np.sqrt(mean_squared_error(b_test, btest_result))\n",
        "\n",
        "print('Train 데이터의 RMSE 값 {}'.format(rmse_train))\n",
        "print('Test  데이터의 RMSE 값 {}'.format(rmse_test))"
      ],
      "metadata": {
        "colab": {
          "base_uri": "https://localhost:8080/"
        },
        "id": "kPFBbWK6LxDI",
        "outputId": "6f00d02d-8ede-4417-a7f0-b19725254fd1"
      },
      "execution_count": 72,
      "outputs": [
        {
          "output_type": "stream",
          "name": "stdout",
          "text": [
            "Train 데이터의 RMSE 값 149.06475409062958\n",
            "Test  데이터의 RMSE 값 149.0597349842419\n"
          ]
        }
      ]
    }
  ]
}