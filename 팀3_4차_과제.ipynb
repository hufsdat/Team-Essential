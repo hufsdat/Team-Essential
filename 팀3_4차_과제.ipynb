{
  "cells": [
    {
      "cell_type": "markdown",
      "id": "d44547cf",
      "metadata": {
        "id": "d44547cf"
      },
      "source": [
        "# 02. Multiple Linear Regression"
      ]
    },
    {
      "cell_type": "markdown",
      "id": "28441df3",
      "metadata": {
        "id": "28441df3"
      },
      "source": [
        "## 원-핫 인코딩"
      ]
    },
    {
      "cell_type": "code",
      "execution_count": null,
      "id": "33b3f969",
      "metadata": {
        "id": "33b3f969"
      },
      "outputs": [],
      "source": [
        "import pandas as pd"
      ]
    },
    {
      "cell_type": "code",
      "execution_count": null,
      "id": "a3f063d4",
      "metadata": {
        "id": "a3f063d4"
      },
      "outputs": [],
      "source": [
        "dataset = pd.read_csv('MultipleLinearRegressionData.csv')\n",
        "X = dataset.iloc[:, :-1].values\n",
        "y = dataset.iloc[:, -1].values"
      ]
    },
    {
      "cell_type": "code",
      "execution_count": null,
      "id": "b019957b",
      "metadata": {
        "id": "b019957b",
        "outputId": "44a48832-5f0f-4a5d-9169-7f00c7a50c16"
      },
      "outputs": [
        {
          "data": {
            "text/plain": [
              "array([[0.5, 3, 'Home'],\n",
              "       [1.2, 4, 'Library'],\n",
              "       [1.8, 2, 'Cafe'],\n",
              "       [2.4, 0, 'Cafe'],\n",
              "       [2.6, 2, 'Home'],\n",
              "       [3.2, 0, 'Home'],\n",
              "       [3.9, 0, 'Library'],\n",
              "       [4.4, 0, 'Library'],\n",
              "       [4.5, 5, 'Home'],\n",
              "       [5.0, 1, 'Cafe'],\n",
              "       [5.3, 2, 'Cafe'],\n",
              "       [5.8, 0, 'Cafe'],\n",
              "       [6.0, 3, 'Library'],\n",
              "       [6.1, 1, 'Cafe'],\n",
              "       [6.2, 1, 'Library'],\n",
              "       [6.9, 4, 'Home'],\n",
              "       [7.2, 2, 'Cafe'],\n",
              "       [8.4, 1, 'Home'],\n",
              "       [8.6, 1, 'Library'],\n",
              "       [10.0, 0, 'Library']], dtype=object)"
            ]
          },
          "execution_count": 6,
          "metadata": {},
          "output_type": "execute_result"
        }
      ],
      "source": [
        "X"
      ]
    },
    {
      "cell_type": "code",
      "execution_count": null,
      "id": "d6155411",
      "metadata": {
        "id": "d6155411",
        "outputId": "7aa7eae7-6bd5-4f63-d449-858787cdd264"
      },
      "outputs": [
        {
          "data": {
            "text/plain": [
              "array([[1.0, 0.0, 0.5, 3],\n",
              "       [0.0, 1.0, 1.2, 4],\n",
              "       [0.0, 0.0, 1.8, 2],\n",
              "       [0.0, 0.0, 2.4, 0],\n",
              "       [1.0, 0.0, 2.6, 2],\n",
              "       [1.0, 0.0, 3.2, 0],\n",
              "       [0.0, 1.0, 3.9, 0],\n",
              "       [0.0, 1.0, 4.4, 0],\n",
              "       [1.0, 0.0, 4.5, 5],\n",
              "       [0.0, 0.0, 5.0, 1],\n",
              "       [0.0, 0.0, 5.3, 2],\n",
              "       [0.0, 0.0, 5.8, 0],\n",
              "       [0.0, 1.0, 6.0, 3],\n",
              "       [0.0, 0.0, 6.1, 1],\n",
              "       [0.0, 1.0, 6.2, 1],\n",
              "       [1.0, 0.0, 6.9, 4],\n",
              "       [0.0, 0.0, 7.2, 2],\n",
              "       [1.0, 0.0, 8.4, 1],\n",
              "       [0.0, 1.0, 8.6, 1],\n",
              "       [0.0, 1.0, 10.0, 0]], dtype=object)"
            ]
          },
          "execution_count": 7,
          "metadata": {},
          "output_type": "execute_result"
        }
      ],
      "source": [
        "from sklearn.compose import ColumnTransformer\n",
        "from sklearn.preprocessing import OneHotEncoder\n",
        "ct = ColumnTransformer(transformers=[('encoder', OneHotEncoder(drop='first'), [2])], remainder='passthrough')\n",
        "X = ct.fit_transform(X)\n",
        "X\n",
        "# 2번 인덱스 컬럼에 원-핫 인코딩 적용\n",
        "# reminder : 나머지는 어떻게 할 건지. 그대로 둔다\n",
        "# 1 0 : Home\n",
        "# 0 1 : Library\n",
        "# 0 0 : Cafe"
      ]
    },
    {
      "cell_type": "markdown",
      "id": "a26cf9d8",
      "metadata": {
        "id": "a26cf9d8"
      },
      "source": [
        "## 데이터 셋 분리"
      ]
    },
    {
      "cell_type": "raw",
      "id": "e6d0555f",
      "metadata": {
        "id": "e6d0555f"
      },
      "source": [
        "from sklearn.model_selection import train_test_split\n",
        "X_train, X_test, y_train, y_test = train_test_split(X, y, test_size=0.2, random_state=0)"
      ]
    },
    {
      "cell_type": "markdown",
      "id": "f65c4447",
      "metadata": {
        "id": "f65c4447"
      },
      "source": [
        "## 학습 (다중선형회귀)"
      ]
    },
    {
      "cell_type": "code",
      "execution_count": null,
      "id": "126be4be",
      "metadata": {
        "id": "126be4be",
        "outputId": "2656598a-6ff6-49fb-9297-6da4e6b30608"
      },
      "outputs": [
        {
          "data": {
            "text/html": [
              "<style>#sk-container-id-1 {color: black;background-color: white;}#sk-container-id-1 pre{padding: 0;}#sk-container-id-1 div.sk-toggleable {background-color: white;}#sk-container-id-1 label.sk-toggleable__label {cursor: pointer;display: block;width: 100%;margin-bottom: 0;padding: 0.3em;box-sizing: border-box;text-align: center;}#sk-container-id-1 label.sk-toggleable__label-arrow:before {content: \"▸\";float: left;margin-right: 0.25em;color: #696969;}#sk-container-id-1 label.sk-toggleable__label-arrow:hover:before {color: black;}#sk-container-id-1 div.sk-estimator:hover label.sk-toggleable__label-arrow:before {color: black;}#sk-container-id-1 div.sk-toggleable__content {max-height: 0;max-width: 0;overflow: hidden;text-align: left;background-color: #f0f8ff;}#sk-container-id-1 div.sk-toggleable__content pre {margin: 0.2em;color: black;border-radius: 0.25em;background-color: #f0f8ff;}#sk-container-id-1 input.sk-toggleable__control:checked~div.sk-toggleable__content {max-height: 200px;max-width: 100%;overflow: auto;}#sk-container-id-1 input.sk-toggleable__control:checked~label.sk-toggleable__label-arrow:before {content: \"▾\";}#sk-container-id-1 div.sk-estimator input.sk-toggleable__control:checked~label.sk-toggleable__label {background-color: #d4ebff;}#sk-container-id-1 div.sk-label input.sk-toggleable__control:checked~label.sk-toggleable__label {background-color: #d4ebff;}#sk-container-id-1 input.sk-hidden--visually {border: 0;clip: rect(1px 1px 1px 1px);clip: rect(1px, 1px, 1px, 1px);height: 1px;margin: -1px;overflow: hidden;padding: 0;position: absolute;width: 1px;}#sk-container-id-1 div.sk-estimator {font-family: monospace;background-color: #f0f8ff;border: 1px dotted black;border-radius: 0.25em;box-sizing: border-box;margin-bottom: 0.5em;}#sk-container-id-1 div.sk-estimator:hover {background-color: #d4ebff;}#sk-container-id-1 div.sk-parallel-item::after {content: \"\";width: 100%;border-bottom: 1px solid gray;flex-grow: 1;}#sk-container-id-1 div.sk-label:hover label.sk-toggleable__label {background-color: #d4ebff;}#sk-container-id-1 div.sk-serial::before {content: \"\";position: absolute;border-left: 1px solid gray;box-sizing: border-box;top: 0;bottom: 0;left: 50%;z-index: 0;}#sk-container-id-1 div.sk-serial {display: flex;flex-direction: column;align-items: center;background-color: white;padding-right: 0.2em;padding-left: 0.2em;position: relative;}#sk-container-id-1 div.sk-item {position: relative;z-index: 1;}#sk-container-id-1 div.sk-parallel {display: flex;align-items: stretch;justify-content: center;background-color: white;position: relative;}#sk-container-id-1 div.sk-item::before, #sk-container-id-1 div.sk-parallel-item::before {content: \"\";position: absolute;border-left: 1px solid gray;box-sizing: border-box;top: 0;bottom: 0;left: 50%;z-index: -1;}#sk-container-id-1 div.sk-parallel-item {display: flex;flex-direction: column;z-index: 1;position: relative;background-color: white;}#sk-container-id-1 div.sk-parallel-item:first-child::after {align-self: flex-end;width: 50%;}#sk-container-id-1 div.sk-parallel-item:last-child::after {align-self: flex-start;width: 50%;}#sk-container-id-1 div.sk-parallel-item:only-child::after {width: 0;}#sk-container-id-1 div.sk-dashed-wrapped {border: 1px dashed gray;margin: 0 0.4em 0.5em 0.4em;box-sizing: border-box;padding-bottom: 0.4em;background-color: white;}#sk-container-id-1 div.sk-label label {font-family: monospace;font-weight: bold;display: inline-block;line-height: 1.2em;}#sk-container-id-1 div.sk-label-container {text-align: center;}#sk-container-id-1 div.sk-container {/* jupyter's `normalize.less` sets `[hidden] { display: none; }` but bootstrap.min.css set `[hidden] { display: none !important; }` so we also need the `!important` here to be able to override the default hidden behavior on the sphinx rendered scikit-learn.org. See: https://github.com/scikit-learn/scikit-learn/issues/21755 */display: inline-block !important;position: relative;}#sk-container-id-1 div.sk-text-repr-fallback {display: none;}</style><div id=\"sk-container-id-1\" class=\"sk-top-container\"><div class=\"sk-text-repr-fallback\"><pre>LinearRegression()</pre><b>In a Jupyter environment, please rerun this cell to show the HTML representation or trust the notebook. <br />On GitHub, the HTML representation is unable to render, please try loading this page with nbviewer.org.</b></div><div class=\"sk-container\" hidden><div class=\"sk-item\"><div class=\"sk-estimator sk-toggleable\"><input class=\"sk-toggleable__control sk-hidden--visually\" id=\"sk-estimator-id-1\" type=\"checkbox\" checked><label for=\"sk-estimator-id-1\" class=\"sk-toggleable__label sk-toggleable__label-arrow\">LinearRegression</label><div class=\"sk-toggleable__content\"><pre>LinearRegression()</pre></div></div></div></div></div>"
            ],
            "text/plain": [
              "LinearRegression()"
            ]
          },
          "execution_count": 9,
          "metadata": {},
          "output_type": "execute_result"
        }
      ],
      "source": [
        "from sklearn.linear_model import LinearRegression\n",
        "reg = LinearRegression()\n",
        "reg.fit(X_train, y_train)"
      ]
    },
    {
      "cell_type": "markdown",
      "id": "44e951f3",
      "metadata": {
        "id": "44e951f3"
      },
      "source": [
        "## 예측값과 실제값 비교 (테스트 세트)"
      ]
    },
    {
      "cell_type": "code",
      "execution_count": null,
      "id": "4545c610",
      "metadata": {
        "id": "4545c610",
        "outputId": "917db772-c3c1-4870-f9a1-1705735b4efb"
      },
      "outputs": [
        {
          "data": {
            "text/plain": [
              "array([ 92.15457859,  10.23753043, 108.36245302,  38.14675204])"
            ]
          },
          "execution_count": 10,
          "metadata": {},
          "output_type": "execute_result"
        }
      ],
      "source": [
        "y_pred = reg.predict(X_test)\n",
        "y_pred"
      ]
    },
    {
      "cell_type": "code",
      "execution_count": null,
      "id": "b95e50ab",
      "metadata": {
        "id": "b95e50ab",
        "outputId": "a64f2e00-2d7c-485b-986e-e12e72f13147"
      },
      "outputs": [
        {
          "data": {
            "text/plain": [
              "array([ 90,   8, 100,  38])"
            ]
          },
          "execution_count": 11,
          "metadata": {},
          "output_type": "execute_result"
        }
      ],
      "source": [
        "y_test # 실제값과 예측값이 근사하게 나옴"
      ]
    },
    {
      "cell_type": "code",
      "execution_count": null,
      "id": "f6e3d57c",
      "metadata": {
        "id": "f6e3d57c",
        "outputId": "dfb888a4-6286-4c26-c304-f676aeed52cc"
      },
      "outputs": [
        {
          "data": {
            "text/plain": [
              "array([-5.82712824, -1.04450647, 10.40419528, -1.64200104])"
            ]
          },
          "execution_count": 12,
          "metadata": {},
          "output_type": "execute_result"
        }
      ],
      "source": [
        "reg.coef_ # 독립변수 4개에 대한 계수정보 ; 집, 도서관, 공부시간, 결석"
      ]
    },
    {
      "cell_type": "code",
      "execution_count": null,
      "id": "6af42fa1",
      "metadata": {
        "id": "6af42fa1",
        "outputId": "40ed4742-6844-44ac-fa5d-fd983c77d8ff"
      },
      "outputs": [
        {
          "data": {
            "text/plain": [
              "5.365006706544811"
            ]
          },
          "execution_count": 13,
          "metadata": {},
          "output_type": "execute_result"
        }
      ],
      "source": [
        "reg.intercept_"
      ]
    },
    {
      "cell_type": "markdown",
      "id": "ecd09732",
      "metadata": {
        "id": "ecd09732"
      },
      "source": [
        "## 모델 평가"
      ]
    },
    {
      "cell_type": "code",
      "execution_count": null,
      "id": "ee82050f",
      "metadata": {
        "id": "ee82050f",
        "outputId": "3b9ae70f-6b61-4cea-afba-2fbcf9baa214"
      },
      "outputs": [
        {
          "data": {
            "text/plain": [
              "0.9623352565265527"
            ]
          },
          "execution_count": 14,
          "metadata": {},
          "output_type": "execute_result"
        }
      ],
      "source": [
        "reg.score(X_train, y_train) # 훈련세트"
      ]
    },
    {
      "cell_type": "code",
      "execution_count": null,
      "id": "07720fb4",
      "metadata": {
        "id": "07720fb4",
        "outputId": "f5cf792b-8bee-4957-ee7a-587abf79015c"
      },
      "outputs": [
        {
          "data": {
            "text/plain": [
              "0.9859956178877447"
            ]
          },
          "execution_count": 22,
          "metadata": {},
          "output_type": "execute_result"
        }
      ],
      "source": [
        "reg.score(X_test, y_test) # 테스트세트 (=R2)"
      ]
    },
    {
      "cell_type": "markdown",
      "id": "4ef410a5",
      "metadata": {
        "id": "4ef410a5"
      },
      "source": [
        "### 다양한 평가 지표 (회귀 모델)"
      ]
    },
    {
      "cell_type": "markdown",
      "id": "193bb06d",
      "metadata": {
        "id": "193bb06d"
      },
      "source": [
        "1. MAE (Mean Absolute Error) : (실제 값과 예측 값) 차이의 절대값\n",
        "1. MSE (Mean Squared Error) : 차이의 제곱\n",
        "1. RMSE (Root Mean Squared Error) : 차이의 제곱에 루트\n",
        "1. R2 : 결정 계수\n",
        "\n",
        "> R2 는 1에 가까울수록, 나머지는 0에 가까울수록 좋음"
      ]
    },
    {
      "cell_type": "code",
      "execution_count": null,
      "id": "07136043",
      "metadata": {
        "id": "07136043",
        "outputId": "a994b081-0c1c-4692-e327-6c1b00a835fc"
      },
      "outputs": [
        {
          "data": {
            "text/plain": [
              "3.225328518828785"
            ]
          },
          "execution_count": 16,
          "metadata": {},
          "output_type": "execute_result"
        }
      ],
      "source": [
        "from sklearn.metrics import mean_absolute_error\n",
        "mean_absolute_error(y_test, y_pred) # 실제 값과 예측 값을 넣었을 떄의 MAE"
      ]
    },
    {
      "cell_type": "code",
      "execution_count": null,
      "id": "a1a433bc",
      "metadata": {
        "id": "a1a433bc",
        "outputId": "fad48531-fe44-4ff5-ece2-114c0f4bac2e"
      },
      "outputs": [
        {
          "data": {
            "text/plain": [
              "19.90022698151483"
            ]
          },
          "execution_count": 17,
          "metadata": {},
          "output_type": "execute_result"
        }
      ],
      "source": [
        "from sklearn.metrics import mean_squared_error\n",
        "mean_squared_error(y_test, y_pred) # 실제 값과 예측 값을 넣었을 떄의 MSE"
      ]
    },
    {
      "cell_type": "code",
      "execution_count": null,
      "id": "ed493c68",
      "metadata": {
        "id": "ed493c68",
        "outputId": "506d7306-d9e5-44f3-ac4e-d168e6d29d93"
      },
      "outputs": [
        {
          "data": {
            "text/plain": [
              "4.460967045553557"
            ]
          },
          "execution_count": 18,
          "metadata": {},
          "output_type": "execute_result"
        }
      ],
      "source": [
        "from sklearn.metrics import mean_squared_error\n",
        "mean_squared_error(y_test, y_pred, squared=False) # 실제 값과 예측 값을 넣었을 떄의 RMSE"
      ]
    },
    {
      "cell_type": "code",
      "execution_count": null,
      "id": "aa36dca9",
      "metadata": {
        "id": "aa36dca9",
        "outputId": "70d4f9dd-6d7f-46a3-eebd-a767f3139b6a"
      },
      "outputs": [
        {
          "data": {
            "text/plain": [
              "0.9859956178877447"
            ]
          },
          "execution_count": 21,
          "metadata": {},
          "output_type": "execute_result"
        }
      ],
      "source": [
        "from sklearn.metrics import r2_score\n",
        "r2_score(y_test, y_pred) # 실제 값과 예측 값을 넣었을 떄의 R2"
      ]
    },
    {
      "cell_type": "markdown",
      "metadata": {
        "id": "1b4f5979"
      },
      "source": [
        "# 03. Polynomial Regression"
      ],
      "id": "1b4f5979"
    },
    {
      "cell_type": "markdown",
      "metadata": {
        "id": "e580662b"
      },
      "source": [
        "## 공부시간에 따른 시험 점수 (우등생)"
      ],
      "id": "e580662b"
    },
    {
      "cell_type": "code",
      "execution_count": null,
      "metadata": {
        "id": "7d60c935"
      },
      "outputs": [],
      "source": [
        "import numpy as np\n",
        "import matplotlib.pyplot as plt\n",
        "import pandas as pd"
      ],
      "id": "7d60c935"
    },
    {
      "cell_type": "code",
      "execution_count": null,
      "metadata": {
        "id": "c4390297"
      },
      "outputs": [],
      "source": [
        "dataset = pd.read_csv('PolynomialRegressionData.csv')\n",
        "X = dataset.iloc[:, :-1].values\n",
        "y = dataset.iloc[:, -1].values"
      ],
      "id": "c4390297"
    },
    {
      "cell_type": "markdown",
      "metadata": {
        "id": "0cfbdc38"
      },
      "source": [
        "# 03-1. 단순 선형 회귀 (Simple Linear Regression)"
      ],
      "id": "0cfbdc38"
    },
    {
      "cell_type": "code",
      "execution_count": null,
      "metadata": {
        "id": "cb96b5da",
        "outputId": "a6eae863-2436-4144-ca12-ea5dbb4b057e"
      },
      "outputs": [
        {
          "data": {
            "text/html": [
              "<style>#sk-container-id-1 {color: black;background-color: white;}#sk-container-id-1 pre{padding: 0;}#sk-container-id-1 div.sk-toggleable {background-color: white;}#sk-container-id-1 label.sk-toggleable__label {cursor: pointer;display: block;width: 100%;margin-bottom: 0;padding: 0.3em;box-sizing: border-box;text-align: center;}#sk-container-id-1 label.sk-toggleable__label-arrow:before {content: \"▸\";float: left;margin-right: 0.25em;color: #696969;}#sk-container-id-1 label.sk-toggleable__label-arrow:hover:before {color: black;}#sk-container-id-1 div.sk-estimator:hover label.sk-toggleable__label-arrow:before {color: black;}#sk-container-id-1 div.sk-toggleable__content {max-height: 0;max-width: 0;overflow: hidden;text-align: left;background-color: #f0f8ff;}#sk-container-id-1 div.sk-toggleable__content pre {margin: 0.2em;color: black;border-radius: 0.25em;background-color: #f0f8ff;}#sk-container-id-1 input.sk-toggleable__control:checked~div.sk-toggleable__content {max-height: 200px;max-width: 100%;overflow: auto;}#sk-container-id-1 input.sk-toggleable__control:checked~label.sk-toggleable__label-arrow:before {content: \"▾\";}#sk-container-id-1 div.sk-estimator input.sk-toggleable__control:checked~label.sk-toggleable__label {background-color: #d4ebff;}#sk-container-id-1 div.sk-label input.sk-toggleable__control:checked~label.sk-toggleable__label {background-color: #d4ebff;}#sk-container-id-1 input.sk-hidden--visually {border: 0;clip: rect(1px 1px 1px 1px);clip: rect(1px, 1px, 1px, 1px);height: 1px;margin: -1px;overflow: hidden;padding: 0;position: absolute;width: 1px;}#sk-container-id-1 div.sk-estimator {font-family: monospace;background-color: #f0f8ff;border: 1px dotted black;border-radius: 0.25em;box-sizing: border-box;margin-bottom: 0.5em;}#sk-container-id-1 div.sk-estimator:hover {background-color: #d4ebff;}#sk-container-id-1 div.sk-parallel-item::after {content: \"\";width: 100%;border-bottom: 1px solid gray;flex-grow: 1;}#sk-container-id-1 div.sk-label:hover label.sk-toggleable__label {background-color: #d4ebff;}#sk-container-id-1 div.sk-serial::before {content: \"\";position: absolute;border-left: 1px solid gray;box-sizing: border-box;top: 0;bottom: 0;left: 50%;z-index: 0;}#sk-container-id-1 div.sk-serial {display: flex;flex-direction: column;align-items: center;background-color: white;padding-right: 0.2em;padding-left: 0.2em;position: relative;}#sk-container-id-1 div.sk-item {position: relative;z-index: 1;}#sk-container-id-1 div.sk-parallel {display: flex;align-items: stretch;justify-content: center;background-color: white;position: relative;}#sk-container-id-1 div.sk-item::before, #sk-container-id-1 div.sk-parallel-item::before {content: \"\";position: absolute;border-left: 1px solid gray;box-sizing: border-box;top: 0;bottom: 0;left: 50%;z-index: -1;}#sk-container-id-1 div.sk-parallel-item {display: flex;flex-direction: column;z-index: 1;position: relative;background-color: white;}#sk-container-id-1 div.sk-parallel-item:first-child::after {align-self: flex-end;width: 50%;}#sk-container-id-1 div.sk-parallel-item:last-child::after {align-self: flex-start;width: 50%;}#sk-container-id-1 div.sk-parallel-item:only-child::after {width: 0;}#sk-container-id-1 div.sk-dashed-wrapped {border: 1px dashed gray;margin: 0 0.4em 0.5em 0.4em;box-sizing: border-box;padding-bottom: 0.4em;background-color: white;}#sk-container-id-1 div.sk-label label {font-family: monospace;font-weight: bold;display: inline-block;line-height: 1.2em;}#sk-container-id-1 div.sk-label-container {text-align: center;}#sk-container-id-1 div.sk-container {/* jupyter's `normalize.less` sets `[hidden] { display: none; }` but bootstrap.min.css set `[hidden] { display: none !important; }` so we also need the `!important` here to be able to override the default hidden behavior on the sphinx rendered scikit-learn.org. See: https://github.com/scikit-learn/scikit-learn/issues/21755 */display: inline-block !important;position: relative;}#sk-container-id-1 div.sk-text-repr-fallback {display: none;}</style><div id=\"sk-container-id-1\" class=\"sk-top-container\"><div class=\"sk-text-repr-fallback\"><pre>LinearRegression()</pre><b>In a Jupyter environment, please rerun this cell to show the HTML representation or trust the notebook. <br />On GitHub, the HTML representation is unable to render, please try loading this page with nbviewer.org.</b></div><div class=\"sk-container\" hidden><div class=\"sk-item\"><div class=\"sk-estimator sk-toggleable\"><input class=\"sk-toggleable__control sk-hidden--visually\" id=\"sk-estimator-id-1\" type=\"checkbox\" checked><label for=\"sk-estimator-id-1\" class=\"sk-toggleable__label sk-toggleable__label-arrow\">LinearRegression</label><div class=\"sk-toggleable__content\"><pre>LinearRegression()</pre></div></div></div></div></div>"
            ],
            "text/plain": [
              "LinearRegression()"
            ]
          },
          "execution_count": 3,
          "metadata": {},
          "output_type": "execute_result"
        }
      ],
      "source": [
        "from sklearn.linear_model import LinearRegression\n",
        "reg = LinearRegression()\n",
        "reg.fit(X, y)"
      ],
      "id": "cb96b5da"
    },
    {
      "cell_type": "markdown",
      "metadata": {
        "id": "b932ea85"
      },
      "source": [
        "## 데이터 시각화 (전체)"
      ],
      "id": "b932ea85"
    },
    {
      "cell_type": "code",
      "execution_count": null,
      "metadata": {
        "id": "131a11b5",
        "outputId": "adb58203-9066-4e3e-bd8a-544c317bfb9a"
      },
      "outputs": [
        {
          "data": {
            "image/png": "[encoded data removed]",
            "text/plain": [
              "<Figure size 432x288 with 1 Axes>"
            ]
          },
          "metadata": {
            "needs_background": "light"
          },
          "output_type": "display_data"
        }
      ],
      "source": [
        "plt.scatter(X, y, color='blue') # 산점도\n",
        "plt.plot(X, reg.predict(X), color='green') # 선 그래프\n",
        "plt.title('Score by hours (genius)') # 제목\n",
        "plt.xlabel('hours') # X축 이름\n",
        "plt.ylabel('score') # Y축 이름\n",
        "plt.show()"
      ],
      "id": "131a11b5"
    },
    {
      "cell_type": "code",
      "execution_count": null,
      "metadata": {
        "id": "aa22c948",
        "outputId": "23932cd9-0bac-4dd6-8c69-23ee265f1e2a"
      },
      "outputs": [
        {
          "data": {
            "text/plain": [
              "0.8169296513411765"
            ]
          },
          "execution_count": 5,
          "metadata": {},
          "output_type": "execute_result"
        }
      ],
      "source": [
        "reg.score(X, y) # 전체 데이터를 통한 모델평가"
      ],
      "id": "aa22c948"
    },
    {
      "cell_type": "markdown",
      "metadata": {
        "id": "b5652042"
      },
      "source": [
        "# 03-2. 다항 회귀 (Polynomial Regression)"
      ],
      "id": "b5652042"
    },
    {
      "cell_type": "code",
      "execution_count": null,
      "metadata": {
        "id": "7e053cb6",
        "outputId": "2e9d7fff-9d3f-4648-9747-1a7a3afe1ae6"
      },
      "outputs": [
        {
          "data": {
            "text/plain": [
              "array([[1.0000e+00, 2.0000e-01, 4.0000e-02, 8.0000e-03, 1.6000e-03],\n",
              "       [1.0000e+00, 5.0000e-01, 2.5000e-01, 1.2500e-01, 6.2500e-02],\n",
              "       [1.0000e+00, 8.0000e-01, 6.4000e-01, 5.1200e-01, 4.0960e-01],\n",
              "       [1.0000e+00, 9.0000e-01, 8.1000e-01, 7.2900e-01, 6.5610e-01],\n",
              "       [1.0000e+00, 1.2000e+00, 1.4400e+00, 1.7280e+00, 2.0736e+00]])"
            ]
          },
          "execution_count": 6,
          "metadata": {},
          "output_type": "execute_result"
        }
      ],
      "source": [
        "from sklearn.preprocessing import PolynomialFeatures\n",
        "poly_reg = PolynomialFeatures(degree=4) # 2차\n",
        "X_poly = poly_reg.fit_transform(X)\n",
        "X_poly[:5] # [x] -> [x^0, x^1, x^2] -> x 가 3이라면 [1, 3, 9] 이런 식으로 변환"
      ],
      "id": "7e053cb6"
    },
    {
      "cell_type": "code",
      "execution_count": null,
      "metadata": {
        "id": "0eb7b55f",
        "outputId": "b180b8ff-2d94-40c5-db17-7421014af94e"
      },
      "outputs": [
        {
          "data": {
            "text/plain": [
              "array([[0.2],\n",
              "       [0.5],\n",
              "       [0.8],\n",
              "       [0.9],\n",
              "       [1.2]])"
            ]
          },
          "execution_count": 7,
          "metadata": {},
          "output_type": "execute_result"
        }
      ],
      "source": [
        "X[:5]"
      ],
      "id": "0eb7b55f"
    },
    {
      "cell_type": "code",
      "execution_count": null,
      "metadata": {
        "id": "fdf26443",
        "outputId": "ead0ec2b-f3ff-4fbd-b0a1-13dd01ef77e2"
      },
      "outputs": [
        {
          "data": {
            "text/plain": [
              "array(['1', 'x0', 'x0^2', 'x0^3', 'x0^4'], dtype=object)"
            ]
          },
          "execution_count": 8,
          "metadata": {},
          "output_type": "execute_result"
        }
      ],
      "source": [
        "poly_reg.get_feature_names_out() # 확인"
      ],
      "id": "fdf26443"
    },
    {
      "cell_type": "code",
      "execution_count": null,
      "metadata": {
        "id": "825931ef",
        "outputId": "0f6deede-b874-4ddb-b762-f1103ee73521"
      },
      "outputs": [
        {
          "data": {
            "text/html": [
              "<style>#sk-container-id-2 {color: black;background-color: white;}#sk-container-id-2 pre{padding: 0;}#sk-container-id-2 div.sk-toggleable {background-color: white;}#sk-container-id-2 label.sk-toggleable__label {cursor: pointer;display: block;width: 100%;margin-bottom: 0;padding: 0.3em;box-sizing: border-box;text-align: center;}#sk-container-id-2 label.sk-toggleable__label-arrow:before {content: \"▸\";float: left;margin-right: 0.25em;color: #696969;}#sk-container-id-2 label.sk-toggleable__label-arrow:hover:before {color: black;}#sk-container-id-2 div.sk-estimator:hover label.sk-toggleable__label-arrow:before {color: black;}#sk-container-id-2 div.sk-toggleable__content {max-height: 0;max-width: 0;overflow: hidden;text-align: left;background-color: #f0f8ff;}#sk-container-id-2 div.sk-toggleable__content pre {margin: 0.2em;color: black;border-radius: 0.25em;background-color: #f0f8ff;}#sk-container-id-2 input.sk-toggleable__control:checked~div.sk-toggleable__content {max-height: 200px;max-width: 100%;overflow: auto;}#sk-container-id-2 input.sk-toggleable__control:checked~label.sk-toggleable__label-arrow:before {content: \"▾\";}#sk-container-id-2 div.sk-estimator input.sk-toggleable__control:checked~label.sk-toggleable__label {background-color: #d4ebff;}#sk-container-id-2 div.sk-label input.sk-toggleable__control:checked~label.sk-toggleable__label {background-color: #d4ebff;}#sk-container-id-2 input.sk-hidden--visually {border: 0;clip: rect(1px 1px 1px 1px);clip: rect(1px, 1px, 1px, 1px);height: 1px;margin: -1px;overflow: hidden;padding: 0;position: absolute;width: 1px;}#sk-container-id-2 div.sk-estimator {font-family: monospace;background-color: #f0f8ff;border: 1px dotted black;border-radius: 0.25em;box-sizing: border-box;margin-bottom: 0.5em;}#sk-container-id-2 div.sk-estimator:hover {background-color: #d4ebff;}#sk-container-id-2 div.sk-parallel-item::after {content: \"\";width: 100%;border-bottom: 1px solid gray;flex-grow: 1;}#sk-container-id-2 div.sk-label:hover label.sk-toggleable__label {background-color: #d4ebff;}#sk-container-id-2 div.sk-serial::before {content: \"\";position: absolute;border-left: 1px solid gray;box-sizing: border-box;top: 0;bottom: 0;left: 50%;z-index: 0;}#sk-container-id-2 div.sk-serial {display: flex;flex-direction: column;align-items: center;background-color: white;padding-right: 0.2em;padding-left: 0.2em;position: relative;}#sk-container-id-2 div.sk-item {position: relative;z-index: 1;}#sk-container-id-2 div.sk-parallel {display: flex;align-items: stretch;justify-content: center;background-color: white;position: relative;}#sk-container-id-2 div.sk-item::before, #sk-container-id-2 div.sk-parallel-item::before {content: \"\";position: absolute;border-left: 1px solid gray;box-sizing: border-box;top: 0;bottom: 0;left: 50%;z-index: -1;}#sk-container-id-2 div.sk-parallel-item {display: flex;flex-direction: column;z-index: 1;position: relative;background-color: white;}#sk-container-id-2 div.sk-parallel-item:first-child::after {align-self: flex-end;width: 50%;}#sk-container-id-2 div.sk-parallel-item:last-child::after {align-self: flex-start;width: 50%;}#sk-container-id-2 div.sk-parallel-item:only-child::after {width: 0;}#sk-container-id-2 div.sk-dashed-wrapped {border: 1px dashed gray;margin: 0 0.4em 0.5em 0.4em;box-sizing: border-box;padding-bottom: 0.4em;background-color: white;}#sk-container-id-2 div.sk-label label {font-family: monospace;font-weight: bold;display: inline-block;line-height: 1.2em;}#sk-container-id-2 div.sk-label-container {text-align: center;}#sk-container-id-2 div.sk-container {/* jupyter's `normalize.less` sets `[hidden] { display: none; }` but bootstrap.min.css set `[hidden] { display: none !important; }` so we also need the `!important` here to be able to override the default hidden behavior on the sphinx rendered scikit-learn.org. See: https://github.com/scikit-learn/scikit-learn/issues/21755 */display: inline-block !important;position: relative;}#sk-container-id-2 div.sk-text-repr-fallback {display: none;}</style><div id=\"sk-container-id-2\" class=\"sk-top-container\"><div class=\"sk-text-repr-fallback\"><pre>LinearRegression()</pre><b>In a Jupyter environment, please rerun this cell to show the HTML representation or trust the notebook. <br />On GitHub, the HTML representation is unable to render, please try loading this page with nbviewer.org.</b></div><div class=\"sk-container\" hidden><div class=\"sk-item\"><div class=\"sk-estimator sk-toggleable\"><input class=\"sk-toggleable__control sk-hidden--visually\" id=\"sk-estimator-id-2\" type=\"checkbox\" checked><label for=\"sk-estimator-id-2\" class=\"sk-toggleable__label sk-toggleable__label-arrow\">LinearRegression</label><div class=\"sk-toggleable__content\"><pre>LinearRegression()</pre></div></div></div></div></div>"
            ],
            "text/plain": [
              "LinearRegression()"
            ]
          },
          "execution_count": 9,
          "metadata": {},
          "output_type": "execute_result"
        }
      ],
      "source": [
        "lin_reg = LinearRegression()\n",
        "lin_reg.fit(X_poly, y) # 변환한 X_poly와 y를 가지고 모델 생성(학습)"
      ],
      "id": "825931ef"
    },
    {
      "cell_type": "markdown",
      "metadata": {
        "id": "6065105f"
      },
      "source": [
        "## 데이터 시각화 (변환된 X와 y)"
      ],
      "id": "6065105f"
    },
    {
      "cell_type": "code",
      "execution_count": null,
      "metadata": {
        "id": "846934b6",
        "outputId": "c2c69dec-d1f2-4ef4-bd27-3bb4fc864c01"
      },
      "outputs": [
        {
          "data": {
            "image/png": "[encoded data removed]",
            "text/plain": [
              "<Figure size 432x288 with 1 Axes>"
            ]
          },
          "metadata": {
            "needs_background": "light"
          },
          "output_type": "display_data"
        }
      ],
      "source": [
        "plt.scatter(X, y, color='blue')\n",
        "plt.plot(X, lin_reg.predict(poly_reg.fit_transform(X)), color='green') # 중요\n",
        "plt.title('Score by hours (genius)')\n",
        "plt.xlabel('hours')\n",
        "plt.ylabel('score')\n",
        "plt.show()"
      ],
      "id": "846934b6"
    },
    {
      "cell_type": "code",
      "execution_count": null,
      "metadata": {
        "id": "35258bbc",
        "outputId": "29de13ad-0875-4a27-ba94-f092fcda846d"
      },
      "outputs": [
        {
          "data": {
            "text/plain": [
              "array([0.2, 0.3, 0.4, 0.5, 0.6, 0.7, 0.8, 0.9, 1. , 1.1, 1.2, 1.3, 1.4,\n",
              "       1.5, 1.6, 1.7, 1.8, 1.9, 2. , 2.1, 2.2, 2.3, 2.4, 2.5, 2.6, 2.7,\n",
              "       2.8, 2.9, 3. , 3.1, 3.2, 3.3, 3.4, 3.5, 3.6, 3.7, 3.8, 3.9, 4. ,\n",
              "       4.1, 4.2, 4.3, 4.4, 4.5, 4.6, 4.7])"
            ]
          },
          "execution_count": 11,
          "metadata": {},
          "output_type": "execute_result"
        }
      ],
      "source": [
        "X_range = np.arange(min(X), max(X), 0.1) # X의 최소값에서 최대값까지의 범위를 0.1단위로 잘라서 데이터를 생성 ->그래프 곡선 부드럽게\n",
        "X_range"
      ],
      "id": "35258bbc"
    },
    {
      "cell_type": "code",
      "execution_count": null,
      "metadata": {
        "id": "c07871a5",
        "outputId": "74b018d6-19e7-41b6-961e-a4963046f786"
      },
      "outputs": [
        {
          "data": {
            "text/plain": [
              "(46,)"
            ]
          },
          "execution_count": 12,
          "metadata": {},
          "output_type": "execute_result"
        }
      ],
      "source": [
        "X_range.shape"
      ],
      "id": "c07871a5"
    },
    {
      "cell_type": "code",
      "execution_count": null,
      "metadata": {
        "id": "f72d36b0",
        "outputId": "68911503-e511-4904-b605-20cab6cdd886"
      },
      "outputs": [
        {
          "data": {
            "text/plain": [
              "array([[0.2],\n",
              "       [0.5],\n",
              "       [0.8],\n",
              "       [0.9],\n",
              "       [1.2]])"
            ]
          },
          "execution_count": 13,
          "metadata": {},
          "output_type": "execute_result"
        }
      ],
      "source": [
        "X[:5]"
      ],
      "id": "f72d36b0"
    },
    {
      "cell_type": "code",
      "execution_count": null,
      "metadata": {
        "id": "ba74064e",
        "outputId": "4f838414-8fa9-4294-ddba-c211c1cb3889"
      },
      "outputs": [
        {
          "data": {
            "text/plain": [
              "(20, 1)"
            ]
          },
          "execution_count": 14,
          "metadata": {},
          "output_type": "execute_result"
        }
      ],
      "source": [
        "X.shape"
      ],
      "id": "ba74064e"
    },
    {
      "cell_type": "code",
      "execution_count": null,
      "metadata": {
        "id": "a80919b7",
        "outputId": "3a04a213-d433-493a-afc3-489f3d08915c"
      },
      "outputs": [
        {
          "data": {
            "text/plain": [
              "(46, 1)"
            ]
          },
          "execution_count": 15,
          "metadata": {},
          "output_type": "execute_result"
        }
      ],
      "source": [
        "X_range = X_range.reshape(-1, 1) # row 개수는 자동으로 계산, column 개수는 1개\n",
        "X_range.shape"
      ],
      "id": "a80919b7"
    },
    {
      "cell_type": "code",
      "execution_count": null,
      "metadata": {
        "id": "4353045c",
        "outputId": "63fc190d-183d-4b7f-8ac9-9545cf625416"
      },
      "outputs": [
        {
          "data": {
            "text/plain": [
              "array([[0.2],\n",
              "       [0.3],\n",
              "       [0.4],\n",
              "       [0.5],\n",
              "       [0.6]])"
            ]
          },
          "execution_count": 16,
          "metadata": {},
          "output_type": "execute_result"
        }
      ],
      "source": [
        "X_range[:5]"
      ],
      "id": "4353045c"
    },
    {
      "cell_type": "code",
      "execution_count": null,
      "metadata": {
        "id": "70078abe",
        "outputId": "ce302836-321e-4327-ffe9-c746667beb87"
      },
      "outputs": [
        {
          "data": {
            "image/png": "[encoded data removed]",
            "text/plain": [
              "<Figure size 432x288 with 1 Axes>"
            ]
          },
          "metadata": {
            "needs_background": "light"
          },
          "output_type": "display_data"
        }
      ],
      "source": [
        "plt.scatter(X, y, color='blue')\n",
        "plt.plot(X_range, lin_reg.predict(poly_reg.fit_transform(X_range)), color='green')\n",
        "plt.title('Score by hours (genius)') # 제목\n",
        "plt.xlabel('hours') # X 축 이름\n",
        "plt.ylabel('score') # Y 축 이름\n",
        "plt.show()"
      ],
      "id": "70078abe"
    },
    {
      "cell_type": "markdown",
      "metadata": {
        "id": "221504b5"
      },
      "source": [
        "## 공부시간에 따른 시험 성적 예측"
      ],
      "id": "221504b5"
    },
    {
      "cell_type": "code",
      "execution_count": null,
      "metadata": {
        "id": "48bbfe83",
        "outputId": "328da3d6-478a-48b0-fc33-7b952a8ecf94"
      },
      "outputs": [
        {
          "data": {
            "text/plain": [
              "array([19.85348988])"
            ]
          },
          "execution_count": 18,
          "metadata": {},
          "output_type": "execute_result"
        }
      ],
      "source": [
        "reg.predict([[2]]) # 2시간을 공부했을 때 선형 회귀 모델의 예측"
      ],
      "id": "48bbfe83"
    },
    {
      "cell_type": "code",
      "execution_count": null,
      "metadata": {
        "id": "257c80fa",
        "outputId": "ae2f7176-826b-47f1-efac-3a2ea8db08fb"
      },
      "outputs": [
        {
          "data": {
            "text/plain": [
              "array([8.70559135])"
            ]
          },
          "execution_count": 19,
          "metadata": {},
          "output_type": "execute_result"
        }
      ],
      "source": [
        "lin_reg.predict(poly_reg.fit_transform([[2]])) # 2시간을 공부했을 때 다항 회귀 모델의 예측"
      ],
      "id": "257c80fa"
    },
    {
      "cell_type": "code",
      "execution_count": null,
      "metadata": {
        "id": "fedfbefd",
        "outputId": "7b3937df-bbaa-4d13-fce2-4790dacad071"
      },
      "outputs": [
        {
          "data": {
            "text/plain": [
              "0.9782775579000046"
            ]
          },
          "execution_count": 20,
          "metadata": {},
          "output_type": "execute_result"
        }
      ],
      "source": [
        "lin_reg.score(X_poly, y) # 단순선형보다는 높은 score"
      ],
      "id": "fedfbefd"
    }
  ],
  "metadata": {
    "kernelspec": {
      "display_name": "Python 3 (ipykernel)",
      "language": "python",
      "name": "python3"
    },
    "language_info": {
      "codemirror_mode": {
        "name": "ipython",
        "version": 3
      },
      "file_extension": ".py",
      "mimetype": "text/x-python",
      "name": "python",
      "nbconvert_exporter": "python",
      "pygments_lexer": "ipython3",
      "version": "3.9.7"
    },
    "colab": {
      "provenance": []
    }
  },
  "nbformat": 4,
  "nbformat_minor": 5
}