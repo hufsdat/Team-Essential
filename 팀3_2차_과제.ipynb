{
  "nbformat": 4,
  "nbformat_minor": 0,
  "metadata": {
    "colab": {
      "provenance": []
    },
    "kernelspec": {
      "name": "python3",
      "display_name": "Python 3"
    },
    "language_info": {
      "name": "python"
    }
  },
  "cells": [
    {
      "cell_type": "markdown",
      "source": [
        "#Linear Regression"
      ],
      "metadata": {
        "id": "2LfKmw8eKy1m"
      }
    },
    {
      "cell_type": "code",
      "execution_count": null,
      "metadata": {
        "id": "PJ2tWJivKuVm",
        "outputId": "f9c3c34c-d74e-4903-fd2b-2139b1dde918",
        "colab": {
          "base_uri": "https://localhost:8080/",
          "height": 206
        }
      },
      "outputs": [
        {
          "output_type": "execute_result",
          "data": {
            "text/plain": [
              "   게임시간  시험성적\n",
              "0     5    80\n",
              "1     7    75\n",
              "2    13    30\n",
              "3     1    95\n",
              "4     2   100"
            ],
            "text/html": [
              "\n",
              "  <div id=\"df-b342cb41-64fd-4567-af03-de5efeb804ea\">\n",
              "    <div class=\"colab-df-container\">\n",
              "      <div>\n",
              "<style scoped>\n",
              "    .dataframe tbody tr th:only-of-type {\n",
              "        vertical-align: middle;\n",
              "    }\n",
              "\n",
              "    .dataframe tbody tr th {\n",
              "        vertical-align: top;\n",
              "    }\n",
              "\n",
              "    .dataframe thead th {\n",
              "        text-align: right;\n",
              "    }\n",
              "</style>\n",
              "<table border=\"1\" class=\"dataframe\">\n",
              "  <thead>\n",
              "    <tr style=\"text-align: right;\">\n",
              "      <th></th>\n",
              "      <th>게임시간</th>\n",
              "      <th>시험성적</th>\n",
              "    </tr>\n",
              "  </thead>\n",
              "  <tbody>\n",
              "    <tr>\n",
              "      <th>0</th>\n",
              "      <td>5</td>\n",
              "      <td>80</td>\n",
              "    </tr>\n",
              "    <tr>\n",
              "      <th>1</th>\n",
              "      <td>7</td>\n",
              "      <td>75</td>\n",
              "    </tr>\n",
              "    <tr>\n",
              "      <th>2</th>\n",
              "      <td>13</td>\n",
              "      <td>30</td>\n",
              "    </tr>\n",
              "    <tr>\n",
              "      <th>3</th>\n",
              "      <td>1</td>\n",
              "      <td>95</td>\n",
              "    </tr>\n",
              "    <tr>\n",
              "      <th>4</th>\n",
              "      <td>2</td>\n",
              "      <td>100</td>\n",
              "    </tr>\n",
              "  </tbody>\n",
              "</table>\n",
              "</div>\n",
              "      <button class=\"colab-df-convert\" onclick=\"convertToInteractive('df-b342cb41-64fd-4567-af03-de5efeb804ea')\"\n",
              "              title=\"Convert this dataframe to an interactive table.\"\n",
              "              style=\"display:none;\">\n",
              "        \n",
              "  <svg xmlns=\"http://www.w3.org/2000/svg\" height=\"24px\"viewBox=\"0 0 24 24\"\n",
              "       width=\"24px\">\n",
              "    <path d=\"M0 0h24v24H0V0z\" fill=\"none\"/>\n",
              "    <path d=\"M18.56 5.44l.94 2.06.94-2.06 2.06-.94-2.06-.94-.94-2.06-.94 2.06-2.06.94zm-11 1L8.5 8.5l.94-2.06 2.06-.94-2.06-.94L8.5 2.5l-.94 2.06-2.06.94zm10 10l.94 2.06.94-2.06 2.06-.94-2.06-.94-.94-2.06-.94 2.06-2.06.94z\"/><path d=\"M17.41 7.96l-1.37-1.37c-.4-.4-.92-.59-1.43-.59-.52 0-1.04.2-1.43.59L10.3 9.45l-7.72 7.72c-.78.78-.78 2.05 0 2.83L4 21.41c.39.39.9.59 1.41.59.51 0 1.02-.2 1.41-.59l7.78-7.78 2.81-2.81c.8-.78.8-2.07 0-2.86zM5.41 20L4 18.59l7.72-7.72 1.47 1.35L5.41 20z\"/>\n",
              "  </svg>\n",
              "      </button>\n",
              "      \n",
              "  <style>\n",
              "    .colab-df-container {\n",
              "      display:flex;\n",
              "      flex-wrap:wrap;\n",
              "      gap: 12px;\n",
              "    }\n",
              "\n",
              "    .colab-df-convert {\n",
              "      background-color: #E8F0FE;\n",
              "      border: none;\n",
              "      border-radius: 50%;\n",
              "      cursor: pointer;\n",
              "      display: none;\n",
              "      fill: #1967D2;\n",
              "      height: 32px;\n",
              "      padding: 0 0 0 0;\n",
              "      width: 32px;\n",
              "    }\n",
              "\n",
              "    .colab-df-convert:hover {\n",
              "      background-color: #E2EBFA;\n",
              "      box-shadow: 0px 1px 2px rgba(60, 64, 67, 0.3), 0px 1px 3px 1px rgba(60, 64, 67, 0.15);\n",
              "      fill: #174EA6;\n",
              "    }\n",
              "\n",
              "    [theme=dark] .colab-df-convert {\n",
              "      background-color: #3B4455;\n",
              "      fill: #D2E3FC;\n",
              "    }\n",
              "\n",
              "    [theme=dark] .colab-df-convert:hover {\n",
              "      background-color: #434B5C;\n",
              "      box-shadow: 0px 1px 3px 1px rgba(0, 0, 0, 0.15);\n",
              "      filter: drop-shadow(0px 1px 2px rgba(0, 0, 0, 0.3));\n",
              "      fill: #FFFFFF;\n",
              "    }\n",
              "  </style>\n",
              "\n",
              "      <script>\n",
              "        const buttonEl =\n",
              "          document.querySelector('#df-b342cb41-64fd-4567-af03-de5efeb804ea button.colab-df-convert');\n",
              "        buttonEl.style.display =\n",
              "          google.colab.kernel.accessAllowed ? 'block' : 'none';\n",
              "\n",
              "        async function convertToInteractive(key) {\n",
              "          const element = document.querySelector('#df-b342cb41-64fd-4567-af03-de5efeb804ea');\n",
              "          const dataTable =\n",
              "            await google.colab.kernel.invokeFunction('convertToInteractive',\n",
              "                                                     [key], {});\n",
              "          if (!dataTable) return;\n",
              "\n",
              "          const docLinkHtml = 'Like what you see? Visit the ' +\n",
              "            '<a target=\"_blank\" href=https://colab.research.google.com/notebooks/data_table.ipynb>data table notebook</a>'\n",
              "            + ' to learn more about interactive tables.';\n",
              "          element.innerHTML = '';\n",
              "          dataTable['output_type'] = 'display_data';\n",
              "          await google.colab.output.renderOutput(dataTable, element);\n",
              "          const docLink = document.createElement('div');\n",
              "          docLink.innerHTML = docLinkHtml;\n",
              "          element.appendChild(docLink);\n",
              "        }\n",
              "      </script>\n",
              "    </div>\n",
              "  </div>\n",
              "  "
            ]
          },
          "metadata": {},
          "execution_count": 2
        }
      ],
      "source": [
        "#시험성적 예측\n",
        "import pandas as pd\n",
        "from sklearn.linear_model import LinearRegression\n",
        "from sklearn import metrics\n",
        "\n",
        "data = pd.read_csv('score.csv')\n",
        "data.head()"
      ]
    },
    {
      "cell_type": "code",
      "source": [
        "#종속변수와 독립변수 분리\n",
        "\n",
        "X = data.drop('시험성적', axis = 1, inplace=False)\n",
        "y = data['시험성적']\n"
      ],
      "metadata": {
        "id": "XlyN4kY7LK5B"
      },
      "execution_count": null,
      "outputs": []
    },
    {
      "cell_type": "code",
      "source": [
        "model = LinearRegression() #모델 설정"
      ],
      "metadata": {
        "id": "sb9UEIygP2ao"
      },
      "execution_count": null,
      "outputs": []
    },
    {
      "cell_type": "code",
      "source": [
        "import numpy as np\n",
        "\n",
        "model.fit(X, y)\n",
        "\n",
        "y_pred = model.predict(X)\n",
        "\n",
        "#예측값과 실제 데이터 간 오차 계산\n",
        "rmse = (metrics.mean_squared_error(y_pred, y))\n",
        "print('RMSE : ', rmse)"
      ],
      "metadata": {
        "id": "xItbCWV4P7K2",
        "outputId": "706f2646-1d40-4218-9e11-e6148f80ea59",
        "colab": {
          "base_uri": "https://localhost:8080/"
        }
      },
      "execution_count": null,
      "outputs": [
        {
          "output_type": "stream",
          "name": "stdout",
          "text": [
            "RMSE :  48.06875166415195\n"
          ]
        }
      ]
    },
    {
      "cell_type": "code",
      "source": [
        "from sklearn.model_selection import train_test_split\n",
        "\n",
        "#테스트 사이즈 30 트레이닝 70 총 12차원 데이터\n",
        "#randomstate = 검증을 위해 필요\n",
        "X_train, X_test, y_train, y_test = train_test_split(X, y, test_size=0.3, random_state=123)\n",
        "print(X_train.shape)\n",
        "print(X_test.shape)"
      ],
      "metadata": {
        "id": "cEtLqhBaQH7Y",
        "outputId": "3fd20eb4-c3d7-400b-d642-2c20fd1d0959",
        "colab": {
          "base_uri": "https://localhost:8080/"
        }
      },
      "execution_count": null,
      "outputs": [
        {
          "output_type": "stream",
          "name": "stdout",
          "text": [
            "(13, 1)\n",
            "(6, 1)\n"
          ]
        }
      ]
    },
    {
      "cell_type": "code",
      "source": [
        "model.fit(X_train, y_train)\n",
        "\n",
        "y_test_pred = model.predict(X_test)\n",
        "y_train_pred = model.predict(X_train)\n",
        "\n",
        "rmse_test = np.sqrt(metrics.mean_squared_error(y_test_pred, y_test))\n",
        "rmse_train = np.sqrt(metrics.mean_squared_error(y_train_pred, y_train))"
      ],
      "metadata": {
        "id": "PjywSjgOQibn"
      },
      "execution_count": null,
      "outputs": []
    },
    {
      "cell_type": "code",
      "source": [
        "print('RMSE test: ', rmse_test)\n",
        "print('RMSE train:', rmse_train)\n"
      ],
      "metadata": {
        "id": "jBVXwnEBQrfG",
        "outputId": "26989a8e-1662-4b44-bd2b-cb8cdd781954",
        "colab": {
          "base_uri": "https://localhost:8080/"
        }
      },
      "execution_count": null,
      "outputs": [
        {
          "output_type": "stream",
          "name": "stdout",
          "text": [
            "RMSE test:  9.29839013870668\n",
            "RMSE train: 5.91782984371565\n"
          ]
        }
      ]
    },
    {
      "cell_type": "code",
      "source": [
        "coef = pd.Series(data = model.coef_, index = X.columns)\n",
        "print(coef) # 회귀계수 알아보기 : 게임시간 1시간 늘어갈수록 평균적으로 시험성적 -4.5점"
      ],
      "metadata": {
        "colab": {
          "base_uri": "https://localhost:8080/"
        },
        "id": "VAugzkvwJ3fI",
        "outputId": "99b30151-2182-42bb-e583-16a54e28685d"
      },
      "execution_count": null,
      "outputs": [
        {
          "output_type": "stream",
          "name": "stdout",
          "text": [
            "게임시간   -4.5\n",
            "dtype: float64\n"
          ]
        }
      ]
    },
    {
      "cell_type": "markdown",
      "source": [
        "#Bikeshare 예제 Ridge & Lasso"
      ],
      "metadata": {
        "id": "m9JJJkMHSMSH"
      }
    },
    {
      "cell_type": "code",
      "source": [
        "import pandas as pd\n",
        "import numpy as np\n",
        "\n",
        "import pandas as pd\n",
        "\n",
        "data = pd.read_csv('bikeshare_pre.csv')\n",
        "data.head()"
      ],
      "metadata": {
        "id": "Pd_iAY6KQtiT",
        "colab": {
          "base_uri": "https://localhost:8080/",
          "height": 317
        },
        "outputId": "5c214b25-da58-47db-86a0-a020264b8ab4"
      },
      "execution_count": null,
      "outputs": [
        {
          "output_type": "execute_result",
          "data": {
            "text/plain": [
              "   Unnamed: 0  holiday  workingday  weather  temp   atemp  humidity  \\\n",
              "0           0        0           0        1  9.84  14.395        81   \n",
              "1           1        0           0        1  9.02  13.635        80   \n",
              "2           2        0           0        1  9.02  13.635        80   \n",
              "3           3        0           0        1  9.84  14.395        75   \n",
              "4           4        0           0        1  9.84  14.395        75   \n",
              "\n",
              "   windspeed  count  year_2012  ...  hour_17.1  hour_18.1  hour_19.1  \\\n",
              "0        0.0     16          0  ...          0          0          0   \n",
              "1        0.0     40          0  ...          0          0          0   \n",
              "2        0.0     32          0  ...          0          0          0   \n",
              "3        0.0     13          0  ...          0          0          0   \n",
              "4        0.0      1          0  ...          0          0          0   \n",
              "\n",
              "   hour_20.1  hour_21.1  hour_22.1  hour_23.1  season_2.1  season_3.1  \\\n",
              "0          0          0          0          0           0           0   \n",
              "1          0          0          0          0           0           0   \n",
              "2          0          0          0          0           0           0   \n",
              "3          0          0          0          0           0           0   \n",
              "4          0          0          0          0           0           0   \n",
              "\n",
              "   season_4.1  \n",
              "0           0  \n",
              "1           0  \n",
              "2           0  \n",
              "3           0  \n",
              "4           0  \n",
              "\n",
              "[5 rows x 97 columns]"
            ],
            "text/html": [
              "\n",
              "  <div id=\"df-df257876-1293-4edc-a3a0-a1f2eeb0e511\">\n",
              "    <div class=\"colab-df-container\">\n",
              "      <div>\n",
              "<style scoped>\n",
              "    .dataframe tbody tr th:only-of-type {\n",
              "        vertical-align: middle;\n",
              "    }\n",
              "\n",
              "    .dataframe tbody tr th {\n",
              "        vertical-align: top;\n",
              "    }\n",
              "\n",
              "    .dataframe thead th {\n",
              "        text-align: right;\n",
              "    }\n",
              "</style>\n",
              "<table border=\"1\" class=\"dataframe\">\n",
              "  <thead>\n",
              "    <tr style=\"text-align: right;\">\n",
              "      <th></th>\n",
              "      <th>Unnamed: 0</th>\n",
              "      <th>holiday</th>\n",
              "      <th>workingday</th>\n",
              "      <th>weather</th>\n",
              "      <th>temp</th>\n",
              "      <th>atemp</th>\n",
              "      <th>humidity</th>\n",
              "      <th>windspeed</th>\n",
              "      <th>count</th>\n",
              "      <th>year_2012</th>\n",
              "      <th>...</th>\n",
              "      <th>hour_17.1</th>\n",
              "      <th>hour_18.1</th>\n",
              "      <th>hour_19.1</th>\n",
              "      <th>hour_20.1</th>\n",
              "      <th>hour_21.1</th>\n",
              "      <th>hour_22.1</th>\n",
              "      <th>hour_23.1</th>\n",
              "      <th>season_2.1</th>\n",
              "      <th>season_3.1</th>\n",
              "      <th>season_4.1</th>\n",
              "    </tr>\n",
              "  </thead>\n",
              "  <tbody>\n",
              "    <tr>\n",
              "      <th>0</th>\n",
              "      <td>0</td>\n",
              "      <td>0</td>\n",
              "      <td>0</td>\n",
              "      <td>1</td>\n",
              "      <td>9.84</td>\n",
              "      <td>14.395</td>\n",
              "      <td>81</td>\n",
              "      <td>0.0</td>\n",
              "      <td>16</td>\n",
              "      <td>0</td>\n",
              "      <td>...</td>\n",
              "      <td>0</td>\n",
              "      <td>0</td>\n",
              "      <td>0</td>\n",
              "      <td>0</td>\n",
              "      <td>0</td>\n",
              "      <td>0</td>\n",
              "      <td>0</td>\n",
              "      <td>0</td>\n",
              "      <td>0</td>\n",
              "      <td>0</td>\n",
              "    </tr>\n",
              "    <tr>\n",
              "      <th>1</th>\n",
              "      <td>1</td>\n",
              "      <td>0</td>\n",
              "      <td>0</td>\n",
              "      <td>1</td>\n",
              "      <td>9.02</td>\n",
              "      <td>13.635</td>\n",
              "      <td>80</td>\n",
              "      <td>0.0</td>\n",
              "      <td>40</td>\n",
              "      <td>0</td>\n",
              "      <td>...</td>\n",
              "      <td>0</td>\n",
              "      <td>0</td>\n",
              "      <td>0</td>\n",
              "      <td>0</td>\n",
              "      <td>0</td>\n",
              "      <td>0</td>\n",
              "      <td>0</td>\n",
              "      <td>0</td>\n",
              "      <td>0</td>\n",
              "      <td>0</td>\n",
              "    </tr>\n",
              "    <tr>\n",
              "      <th>2</th>\n",
              "      <td>2</td>\n",
              "      <td>0</td>\n",
              "      <td>0</td>\n",
              "      <td>1</td>\n",
              "      <td>9.02</td>\n",
              "      <td>13.635</td>\n",
              "      <td>80</td>\n",
              "      <td>0.0</td>\n",
              "      <td>32</td>\n",
              "      <td>0</td>\n",
              "      <td>...</td>\n",
              "      <td>0</td>\n",
              "      <td>0</td>\n",
              "      <td>0</td>\n",
              "      <td>0</td>\n",
              "      <td>0</td>\n",
              "      <td>0</td>\n",
              "      <td>0</td>\n",
              "      <td>0</td>\n",
              "      <td>0</td>\n",
              "      <td>0</td>\n",
              "    </tr>\n",
              "    <tr>\n",
              "      <th>3</th>\n",
              "      <td>3</td>\n",
              "      <td>0</td>\n",
              "      <td>0</td>\n",
              "      <td>1</td>\n",
              "      <td>9.84</td>\n",
              "      <td>14.395</td>\n",
              "      <td>75</td>\n",
              "      <td>0.0</td>\n",
              "      <td>13</td>\n",
              "      <td>0</td>\n",
              "      <td>...</td>\n",
              "      <td>0</td>\n",
              "      <td>0</td>\n",
              "      <td>0</td>\n",
              "      <td>0</td>\n",
              "      <td>0</td>\n",
              "      <td>0</td>\n",
              "      <td>0</td>\n",
              "      <td>0</td>\n",
              "      <td>0</td>\n",
              "      <td>0</td>\n",
              "    </tr>\n",
              "    <tr>\n",
              "      <th>4</th>\n",
              "      <td>4</td>\n",
              "      <td>0</td>\n",
              "      <td>0</td>\n",
              "      <td>1</td>\n",
              "      <td>9.84</td>\n",
              "      <td>14.395</td>\n",
              "      <td>75</td>\n",
              "      <td>0.0</td>\n",
              "      <td>1</td>\n",
              "      <td>0</td>\n",
              "      <td>...</td>\n",
              "      <td>0</td>\n",
              "      <td>0</td>\n",
              "      <td>0</td>\n",
              "      <td>0</td>\n",
              "      <td>0</td>\n",
              "      <td>0</td>\n",
              "      <td>0</td>\n",
              "      <td>0</td>\n",
              "      <td>0</td>\n",
              "      <td>0</td>\n",
              "    </tr>\n",
              "  </tbody>\n",
              "</table>\n",
              "<p>5 rows × 97 columns</p>\n",
              "</div>\n",
              "      <button class=\"colab-df-convert\" onclick=\"convertToInteractive('df-df257876-1293-4edc-a3a0-a1f2eeb0e511')\"\n",
              "              title=\"Convert this dataframe to an interactive table.\"\n",
              "              style=\"display:none;\">\n",
              "        \n",
              "  <svg xmlns=\"http://www.w3.org/2000/svg\" height=\"24px\"viewBox=\"0 0 24 24\"\n",
              "       width=\"24px\">\n",
              "    <path d=\"M0 0h24v24H0V0z\" fill=\"none\"/>\n",
              "    <path d=\"M18.56 5.44l.94 2.06.94-2.06 2.06-.94-2.06-.94-.94-2.06-.94 2.06-2.06.94zm-11 1L8.5 8.5l.94-2.06 2.06-.94-2.06-.94L8.5 2.5l-.94 2.06-2.06.94zm10 10l.94 2.06.94-2.06 2.06-.94-2.06-.94-.94-2.06-.94 2.06-2.06.94z\"/><path d=\"M17.41 7.96l-1.37-1.37c-.4-.4-.92-.59-1.43-.59-.52 0-1.04.2-1.43.59L10.3 9.45l-7.72 7.72c-.78.78-.78 2.05 0 2.83L4 21.41c.39.39.9.59 1.41.59.51 0 1.02-.2 1.41-.59l7.78-7.78 2.81-2.81c.8-.78.8-2.07 0-2.86zM5.41 20L4 18.59l7.72-7.72 1.47 1.35L5.41 20z\"/>\n",
              "  </svg>\n",
              "      </button>\n",
              "      \n",
              "  <style>\n",
              "    .colab-df-container {\n",
              "      display:flex;\n",
              "      flex-wrap:wrap;\n",
              "      gap: 12px;\n",
              "    }\n",
              "\n",
              "    .colab-df-convert {\n",
              "      background-color: #E8F0FE;\n",
              "      border: none;\n",
              "      border-radius: 50%;\n",
              "      cursor: pointer;\n",
              "      display: none;\n",
              "      fill: #1967D2;\n",
              "      height: 32px;\n",
              "      padding: 0 0 0 0;\n",
              "      width: 32px;\n",
              "    }\n",
              "\n",
              "    .colab-df-convert:hover {\n",
              "      background-color: #E2EBFA;\n",
              "      box-shadow: 0px 1px 2px rgba(60, 64, 67, 0.3), 0px 1px 3px 1px rgba(60, 64, 67, 0.15);\n",
              "      fill: #174EA6;\n",
              "    }\n",
              "\n",
              "    [theme=dark] .colab-df-convert {\n",
              "      background-color: #3B4455;\n",
              "      fill: #D2E3FC;\n",
              "    }\n",
              "\n",
              "    [theme=dark] .colab-df-convert:hover {\n",
              "      background-color: #434B5C;\n",
              "      box-shadow: 0px 1px 3px 1px rgba(0, 0, 0, 0.15);\n",
              "      filter: drop-shadow(0px 1px 2px rgba(0, 0, 0, 0.3));\n",
              "      fill: #FFFFFF;\n",
              "    }\n",
              "  </style>\n",
              "\n",
              "      <script>\n",
              "        const buttonEl =\n",
              "          document.querySelector('#df-df257876-1293-4edc-a3a0-a1f2eeb0e511 button.colab-df-convert');\n",
              "        buttonEl.style.display =\n",
              "          google.colab.kernel.accessAllowed ? 'block' : 'none';\n",
              "\n",
              "        async function convertToInteractive(key) {\n",
              "          const element = document.querySelector('#df-df257876-1293-4edc-a3a0-a1f2eeb0e511');\n",
              "          const dataTable =\n",
              "            await google.colab.kernel.invokeFunction('convertToInteractive',\n",
              "                                                     [key], {});\n",
              "          if (!dataTable) return;\n",
              "\n",
              "          const docLinkHtml = 'Like what you see? Visit the ' +\n",
              "            '<a target=\"_blank\" href=https://colab.research.google.com/notebooks/data_table.ipynb>data table notebook</a>'\n",
              "            + ' to learn more about interactive tables.';\n",
              "          element.innerHTML = '';\n",
              "          dataTable['output_type'] = 'display_data';\n",
              "          await google.colab.output.renderOutput(dataTable, element);\n",
              "          const docLink = document.createElement('div');\n",
              "          docLink.innerHTML = docLinkHtml;\n",
              "          element.appendChild(docLink);\n",
              "        }\n",
              "      </script>\n",
              "    </div>\n",
              "  </div>\n",
              "  "
            ]
          },
          "metadata": {},
          "execution_count": 10
        }
      ]
    },
    {
      "cell_type": "markdown",
      "source": [
        "Regularization을 고려하지 않은 LinearRegression 의 경우\n",
        "\n",
        "---"
      ],
      "metadata": {
        "id": "Hgy1UAZ8S1D-"
      }
    },
    {
      "cell_type": "code",
      "source": [
        "from sklearn.linear_model import LinearRegression\n",
        "from sklearn import metrics\n",
        "import numpy as np"
      ],
      "metadata": {
        "id": "JHxoRFaLSyVo"
      },
      "execution_count": null,
      "outputs": []
    },
    {
      "cell_type": "code",
      "source": [
        "A = data.drop('count', axis=1, inplace=False)\n",
        "b = data['count']"
      ],
      "metadata": {
        "id": "OGgzK-A9SzaR"
      },
      "execution_count": null,
      "outputs": []
    },
    {
      "cell_type": "code",
      "source": [
        "model = LinearRegression()"
      ],
      "metadata": {
        "id": "rkLecJg6S36F"
      },
      "execution_count": null,
      "outputs": []
    },
    {
      "cell_type": "code",
      "source": [
        "model.fit(A, b)\n",
        "\n",
        "b_pred = model.predict(A)\n",
        "rmse = np.sqrt(metrics.mean_squared_error(b_pred, b))\n",
        "print('RMSE : ', rmse)"
      ],
      "metadata": {
        "id": "qQ9f1T9OTYOA",
        "colab": {
          "base_uri": "https://localhost:8080/"
        },
        "outputId": "fa71e41a-fcb3-458f-fda0-f03ab5b4f865"
      },
      "execution_count": null,
      "outputs": [
        {
          "output_type": "stream",
          "name": "stdout",
          "text": [
            "RMSE :  100.38718250258322\n"
          ]
        }
      ]
    },
    {
      "cell_type": "code",
      "source": [
        "#train, test 로 나눠주세요!\n",
        "from sklearn.model_selection import train_test_split\n",
        "\n",
        "A_train, A_test, b_train, b_test = train_test_split(A, b, test_size=0.3, random_state=123)\n",
        "print(A_train.shape)\n",
        "print(A_test.shape)"
      ],
      "metadata": {
        "id": "1XqQ9fmiUGWG",
        "colab": {
          "base_uri": "https://localhost:8080/"
        },
        "outputId": "79e826f9-e5f3-4a43-af85-7c9b203e6ca8"
      },
      "execution_count": null,
      "outputs": [
        {
          "output_type": "stream",
          "name": "stdout",
          "text": [
            "(7620, 96)\n",
            "(3266, 96)\n"
          ]
        }
      ]
    },
    {
      "cell_type": "code",
      "source": [
        "model.fit(A_train, b_train)\n",
        "\n",
        "b_test_pred = model.predict(A_test)\n",
        "b_train_pred = model.predict(A_train)\n",
        "\n",
        "rmse_test = np.sqrt(metrics.mean_squared_error(b_test_pred, b_test))\n",
        "rmse_train = np.sqrt(metrics.mean_squared_error(b_train_pred, b_train))"
      ],
      "metadata": {
        "id": "5_CTBTryUIgr"
      },
      "execution_count": null,
      "outputs": []
    },
    {
      "cell_type": "code",
      "source": [
        "print('RMSE test: ', rmse_test)\n",
        "print('RMSE train:', rmse_train)"
      ],
      "metadata": {
        "id": "Hr-gMF_lUJec",
        "colab": {
          "base_uri": "https://localhost:8080/"
        },
        "outputId": "13d038ac-fdbd-4086-eb6c-54cbd19a8e69"
      },
      "execution_count": null,
      "outputs": [
        {
          "output_type": "stream",
          "name": "stdout",
          "text": [
            "RMSE test:  102.2337884289395\n",
            "RMSE train: 99.74306813842324\n"
          ]
        }
      ]
    },
    {
      "cell_type": "markdown",
      "source": [
        "#Ridge & Lasso"
      ],
      "metadata": {
        "id": "4W3lC_rQUgtt"
      }
    },
    {
      "cell_type": "markdown",
      "source": [
        "과적합\n",
        "\n",
        "선형은 별로 설명을 못함. 곡선으로 하면 좋겠지?\n",
        "근데 그러면 train에만 너무 적합해서 test를 설명을 못하는 문제가 생김. =과적합\n",
        "\n",
        "Ridge : 회귀계수를 작게 만든다\n",
        "Lasso : 회귀계수를 0으로 보내서 삭제한다"
      ],
      "metadata": {
        "id": "HhUXQl8MPkJa"
      }
    },
    {
      "cell_type": "code",
      "source": [
        "from sklearn.linear_model import Ridge, Lasso\n",
        "from sklearn.metrics import mean_squared_error"
      ],
      "metadata": {
        "id": "4ffpV451UdBH"
      },
      "execution_count": null,
      "outputs": []
    },
    {
      "cell_type": "code",
      "source": [
        "import pandas as pd\n",
        "\n",
        "df = pd.read_csv('bikeshare_pre.csv')"
      ],
      "metadata": {
        "id": "QKEPU3pYUlVg"
      },
      "execution_count": null,
      "outputs": []
    },
    {
      "cell_type": "code",
      "source": [
        "#Ridge 차원이 너무 높아져서 성능이 안좋아지는 것을 방지하기 위해 모든 계수의 값이 줄어드는 효과 (정규화)\n",
        "ridge = Ridge(alpha=0.05) # 알파=패널티. 패널티를 얼마나 주느냐 # 0.01~100 해보기"
      ],
      "metadata": {
        "id": "jhif_HquUqIq"
      },
      "execution_count": null,
      "outputs": []
    },
    {
      "cell_type": "code",
      "source": [
        "ridge.fit(A_train, b_train)\n",
        "\n",
        "btrain_result = ridge.predict(A_train)\n",
        "btest_result  = ridge.predict(A_test)"
      ],
      "metadata": {
        "id": "LOgrVS20VB62"
      },
      "execution_count": null,
      "outputs": []
    },
    {
      "cell_type": "code",
      "source": [
        "rmse_train = np.sqrt(mean_squared_error(b_train, btrain_result))\n",
        "rmse_test = np.sqrt(mean_squared_error(b_test, btest_result))\n",
        "\n",
        "print('Train 데이터의 RMSE 값 {}'.format(rmse_train))\n",
        "print('Test  데이터의 RMSE 값 {}'.format(rmse_test))"
      ],
      "metadata": {
        "id": "DL3Nsu-JVe-N",
        "colab": {
          "base_uri": "https://localhost:8080/"
        },
        "outputId": "67274119-619c-4013-98e8-1a06c4a41bb0"
      },
      "execution_count": null,
      "outputs": [
        {
          "output_type": "stream",
          "name": "stdout",
          "text": [
            "Train 데이터의 RMSE 값 99.74308219991036\n",
            "Test  데이터의 RMSE 값 102.23355785698743\n"
          ]
        }
      ]
    },
    {
      "cell_type": "code",
      "source": [
        "# alpha = 0.01 : Train 데이터의 RMSE 값 99.74306870267922 / Test  데이터의 RMSE 값 102.23373986635421\n",
        "# alpha = 0.1 : Train 데이터의 RMSE 값 99.74312416127373 / Test  데이터의 RMSE 값 102.23335766497887\n",
        "# alpha = 10 : Train 데이터의 RMSE 값 100.03969578255621 / Test  데이터의 RMSE 값 102.5048499434297\n",
        "# alpha = 100 : Train 데이터의 RMSE 값 103.34255814244958 / Test  데이터의 RMSE 값 105.52227050549864"
      ],
      "metadata": {
        "id": "aO2Z-iPZP8se"
      },
      "execution_count": null,
      "outputs": []
    },
    {
      "cell_type": "code",
      "source": [
        "#Lasso\n",
        "lasso = Lasso(alpha=0.005) # 0.05~50"
      ],
      "metadata": {
        "id": "wVoYT1KlVgOY"
      },
      "execution_count": null,
      "outputs": []
    },
    {
      "cell_type": "code",
      "source": [
        "# 위 Ridge 코드를 참고하여 Lasso 모델 학습\n",
        "lasso.fit(A_train, b_train)\n",
        "\n",
        "btrain_result = lasso.predict(A_train)\n",
        "btest_result  = lasso.predict(A_test)"
      ],
      "metadata": {
        "id": "I05vyssKVqJj",
        "colab": {
          "base_uri": "https://localhost:8080/"
        },
        "outputId": "44e28064-9483-4f10-8109-7e75f7e1acc6"
      },
      "execution_count": null,
      "outputs": [
        {
          "output_type": "stream",
          "name": "stderr",
          "text": [
            "/usr/local/lib/python3.9/dist-packages/sklearn/linear_model/_coordinate_descent.py:631: ConvergenceWarning: Objective did not converge. You might want to increase the number of iterations, check the scale of the features or consider increasing regularisation. Duality gap: 3.785e+07, tolerance: 2.511e+04\n",
            "  model = cd_fast.enet_coordinate_descent(\n"
          ]
        }
      ]
    },
    {
      "cell_type": "code",
      "source": [
        "rmse_train = np.sqrt(mean_squared_error(b_train, btrain_result))\n",
        "rmse_test = np.sqrt(mean_squared_error(b_test, btest_result))\n",
        "\n",
        "print('Train 데이터의 RMSE 값 {}'.format(rmse_train))\n",
        "print('Test  데이터의 RMSE 값 {}'.format(rmse_test))"
      ],
      "metadata": {
        "colab": {
          "base_uri": "https://localhost:8080/"
        },
        "id": "j_T6CEemO6yt",
        "outputId": "310cef87-74cc-4851-abb4-7bc8e0c1c222"
      },
      "execution_count": null,
      "outputs": [
        {
          "output_type": "stream",
          "name": "stdout",
          "text": [
            "Train 데이터의 RMSE 값 99.74442592157736\n",
            "Test  데이터의 RMSE 값 102.2325824963244\n"
          ]
        }
      ]
    },
    {
      "cell_type": "code",
      "source": [
        "# alpha = 0.05 : Train 데이터의 RMSE 값 99.8152403386122 / Test  데이터의 RMSE 값 102.30311747269815\n",
        "# alpha = 0.5 : Train 데이터의 RMSE 값 102.46972981672337 / Test  데이터의 RMSE 값 104.95478451588612\n",
        "# alpha = 5 : Train 데이터의 RMSE 값 134.18693019192634 / Test  데이터의 RMSE 값 135.14816266671824\n",
        "# alpha = 50 : Train 데이터의 RMSE 값 150.7536313041267 / Test  데이터의 RMSE 값 150.3534830084671"
      ],
      "metadata": {
        "id": "YTcHzehyPICN"
      },
      "execution_count": null,
      "outputs": []
    },
    {
      "cell_type": "markdown",
      "source": [
        "# 최적의 alpha 값: 0.05\n",
        "\n",
        "**알파값은 낮을수록 좋았다.**\n",
        "\n",
        "릿지와 라쏘를 비교했을때, \n",
        "\n",
        "릿지는 어느정도 상관성을 가지는 변수들에 대해 pulling 효과가 있어서 변수들에 적절한 가중치 배분을 한다. 그래서 변수 간의 상관관계가 높은 상황에서 좋은 예측 성능을 보인다.\n",
        "\n",
        "반면에 라쏘는 파라미터 크기에 관계없이 같은 수준의 regularization을 적용하기때문에 변수 간의 상관관계가 높은 상황에서 릿지에 비해 상대적으로 예측성능이 떨어진다\n",
        "\n"
      ],
      "metadata": {
        "id": "Cw63uwz2h5Si"
      }
    }
  ]
}